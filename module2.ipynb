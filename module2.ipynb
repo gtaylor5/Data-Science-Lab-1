{
 "metadata": {
  "kernelspec": {
   "display_name": "Python 2",
   "language": "python",
   "name": "python2"
  },
  "language_info": {
   "codemirror_mode": {
    "name": "ipython",
    "version": 2
   },
   "file_extension": ".py",
   "mimetype": "text/x-python",
   "name": "python",
   "nbconvert_exporter": "python",
   "pygments_lexer": "ipython2",
   "version": "2.7.11"
  },
  "name": "",
  "signature": "sha256:47ef7a450bf754c3e1413458632c31b80c6240f1d1a53c96d6e53ca75f31240c"
 },
 "nbformat": 3,
 "nbformat_minor": 0,
 "worksheets": [
  {
   "cells": [
    {
     "cell_type": "markdown",
     "metadata": {},
     "source": [
      "# Module 2 Lab - Probability\n",
      "\n",
      "## Directions\n",
      "1. Show all work/steps/calculations. If it is easier to write it out by hand, do so and submit a scanned PDF in addition to this notebook. Otherwise, generate a Markdown cell for each answer.\n",
      "2. You must submit to **two** places by the deadline:\n",
      "    1. In the Lab section of the Course Module where you downloaded this file from, and\n",
      "    2. In your Lab Discussion Group, in the forum for the appropriate Module.\n",
      "3. You may use any core Python libraries or Numpy/Scipy. **Additionally, code from the Module notebooks and lectures is fair to use and modify.** You may also consult Stackoverflow (SO). If you use something from SO, please place a comment with the URL to document the code."
     ]
    },
    {
     "cell_type": "code",
     "collapsed": false,
     "input": [
      "import numpy as np\n",
      "import random as py_random\n",
      "import numpy.random as np_random\n",
      "import time"
     ],
     "language": "python",
     "metadata": {},
     "outputs": [],
     "prompt_number": 4
    },
    {
     "cell_type": "markdown",
     "metadata": {},
     "source": [
      "## Manipulating and Interpreting Probability\n",
      "\n",
      "Given the following *joint probability distribution*, $P(A|B)$, for $A$ and $B$,\n",
      "\n",
      "\n",
      "|    | a1   | a2   |\n",
      "|----|------|------|\n",
      "| **b1** | 0.37 | 0.16 |\n",
      "| **b2** | 0.23 | ?    |\n",
      "\n",
      "Answer the following questions.\n",
      "\n",
      "**1\\. What is $P(A=a2, B=b2)$?**"
     ]
    },
    {
     "cell_type": "markdown",
     "metadata": {},
     "source": [
      "**2\\. If I observe events from this probability distribution, what is the probability of seeing (a1, b1) then (a2, b2)?**"
     ]
    },
    {
     "cell_type": "markdown",
     "metadata": {},
     "source": [
      "**3\\. Calculate the marginal probability distribution, $P(A)$.**"
     ]
    },
    {
     "cell_type": "markdown",
     "metadata": {},
     "source": [
      "**4\\. Calculate the marginal probability distribution, $P(B)$.**"
     ]
    },
    {
     "cell_type": "markdown",
     "metadata": {},
     "source": [
      "**5\\. Calculate the conditional probability distribution, $P(A|B)$.**"
     ]
    },
    {
     "cell_type": "markdown",
     "metadata": {},
     "source": [
      "**6\\. Calculate the conditional probability distribution, $P(B|A)$.**"
     ]
    },
    {
     "cell_type": "markdown",
     "metadata": {},
     "source": [
      "**7\\. Does $P(A|B) = P(B|A)$? What do we call the belief that these are always equal?**"
     ]
    },
    {
     "cell_type": "markdown",
     "metadata": {},
     "source": [
      "**8\\. Does $P(A) = P(A|B)$? What does that mean about the independence of $A$ and $B$?**"
     ]
    },
    {
     "cell_type": "markdown",
     "metadata": {},
     "source": [
      "**9\\. Using $P(A)$, $P(B|A)$, $P(B)$ from above, calculate,**\n",
      "\n",
      "$P(A|B) = \\frac{P(B|A)P(A)}{P(B)}$\n",
      "\n",
      "Does it match your previous calculation for $P(A|B)$?\n",
      "\n",
      "If we let A = H (some condition, characteristic, hypothesis) and B = D (some data, evidence, a test result), then how do we interpret each of the following: $P(H)$, $P(D)$, $P(H|D)$, $P(D|H)$, $P(H, D)$?"
     ]
    },
    {
     "cell_type": "markdown",
     "metadata": {},
     "source": [
      "## Generating Samples from Probability Distributions\n",
      "\n",
      "### Reproducible Random Numbers\n",
      "Before you begin working with random numbers in any situation, in Data Science, as opposed to Machine Learning, it is desirable to set the random seed and record it. We do this for several reasons:\n",
      "\n",
      "1. For reproducible research, we need to record the random seed that was used to generate our results.\n",
      "2. For sharing with others, if our text said there was some result, and the user re-runs the notebook, we want to get the same results.\n",
      "3. If we are creating a model, and we accidentally generate the best model ever, we want to be able to build it again.\n",
      "\n",
      "Unfortunately, Python's library and Numpy's library do not share seeds so if you need to set the appropriate one. Additionally, they take slightly different arguments (Python can take any Hashable object; Numpy only takes ints). Fortunately, the name of the function is the same.\n",
      "\n",
      "```\n",
      "numpy.random.seed([N]) # Numpy library\n",
      "random.seed([N]) # Python core\n",
      "```\n",
      "\n",
      "You have several options.\n",
      "\n",
      "1. Call the appropriate `seed` function with a value of your choice, probably some Integer, like 27192759.\n",
      "2. Run:\n",
      "\n",
      "```\n",
      "    int( time.time())\n",
      "```\n",
      "\n",
      "to print out a value you can use in either case. Do not just feed `int( time.time())` into the seed function. The whole point is to make the seed a constant.\n",
      "\n",
      "You should set the seed before answering each question. It doesn't necessarily have to be a different value.\n",
      "\n",
      "### Questions\n",
      "\n",
      "**1\\. A trick coin has a probability of heads, $\\theta=0.67$. Simulate 25 coin tosses from this Binomial distribution (25 Bernoulli trials).**"
     ]
    },
    {
     "cell_type": "code",
     "collapsed": true,
     "input": [
      "from random import random\n",
      "p = 0.67\n",
      "[1 if random() < p else 0 for i in xrange(25)]"
     ],
     "language": "python",
     "metadata": {},
     "outputs": [
      {
       "metadata": {},
       "output_type": "pyout",
       "prompt_number": 4,
       "text": [
        "[1, 0, 1, 1, 0, 0, 1, 1, 1, 0, 1, 1, 1, 1, 0, 1, 1, 1, 1, 0, 1, 0, 1, 1, 1]"
       ]
      }
     ],
     "prompt_number": 4
    },
    {
     "cell_type": "markdown",
     "metadata": {},
     "source": [
      "**2\\. Using $P(A, B)$ above, write a function `my_sample` that takes the distribution and the number of desired samples and returns a list of events from the distribution in the form `[(\"a1\", \"b2\"), (\"a1\", \"b1\"), ...]`.**"
     ]
    },
    {
     "cell_type": "code",
     "collapsed": true,
     "input": [
      "from random import random\n",
      "def my_sample(samples):\n",
      "    distrib = {.37 : (\"a1\", \"b1\"),.23 : (\"a1\", \"b2\"),.16 : (\"a2\", \"b1\"), .24 : (\"a2\", \"b2\")}\n",
      "    events = []\n",
      "    ranNums = []\n",
      "    for i in xrange(samples):\n",
      "        ranNum = random()\n",
      "        ranNums.append(ranNum)\n",
      "        if ranNum <=.16:\n",
      "            events.append(distrib[.16])\n",
      "        elif ranNum > .16 and ranNum <= (.23+.16):\n",
      "            events.append(distrib[.23])\n",
      "        elif ranNum > (.23+.16) and ranNum <= (.23+.16+.24):\n",
      "            events.append(distrib[.24])\n",
      "        elif ranNum > (.23+.16+.24) and ranNum <= (.23+.16+.24+.37):\n",
      "            events.append(distrib[.37])\n",
      "    print(events)\n",
      "\n",
      "my_sample(25)\n",
      "\n"
     ],
     "language": "python",
     "metadata": {},
     "outputs": [
      {
       "output_type": "stream",
       "stream": "stdout",
       "text": [
        "[('a2', 'b2'), ('a2', 'b1'), ('a2', 'b2'), ('a1', 'b1'), ('a2', 'b2'), ('a1', 'b2'), ('a1', 'b2'), ('a1', 'b1'), ('a1', 'b1'), ('a2', 'b2'), ('a1', 'b1'), ('a2', 'b2'), ('a1', 'b1'), ('a2', 'b1'), ('a1', 'b1'), ('a1', 'b1'), ('a1', 'b1'), ('a1', 'b1'), ('a1', 'b1'), ('a2', 'b2'), ('a2', 'b1'), ('a1', 'b1'), ('a1', 'b1'), ('a1', 'b1'), ('a2', 'b2')]\n"
       ]
      }
     ],
     "prompt_number": 72
    },
    {
     "cell_type": "markdown",
     "metadata": {},
     "source": [
      "The **mean** is a measure of central tendency. Exactly what that means will await another module but for now, you simply need to use `np.mean()` when asked to calculate the mean of a sample.\n",
      "\n",
      "The **coefficient of variation**, $v$, is a dimensionless measure of the variability of a distribution. It allows you to compare how disperse two or more distributions might be, even if their means and **standard deviation**s are in completely different units. The definition is:\n",
      "\n",
      "$v = |\\frac{\\sigma}{\\mu}|$\n",
      "\n",
      "With a little algebra, you can also calculate a desired *standard deviation* given a coefficient of variation.\n",
      "\n",
      "Using the appropriate Numpy libraries and functions (or lecture materials),"
     ]
    },
    {
     "cell_type": "markdown",
     "metadata": {},
     "source": [
      "**3\\. Generate 25 samples for $X_1$ from a normal distribution with $\\mu=32.5$ and $v=0.01$. Calculate the mean value of $X_1$. How far off is it (percent)?**"
     ]
    },
    {
     "cell_type": "code",
     "collapsed": true,
     "input": [
      "import numpy\n",
      "from numpy import random\n",
      "m = 32.5\n",
      "v = .01\n",
      "sigma = (m*v)\n",
      "x1 = [random.normal(m, sigma) for i in xrange(25) ]\n",
      "mean = numpy.mean(x1)\n",
      "print(mean)\n",
      "print(\"{}{}\".format(((mean - 32.5)/32.5)*100, \" % difference\"))"
     ],
     "language": "python",
     "metadata": {},
     "outputs": [
      {
       "output_type": "stream",
       "stream": "stdout",
       "text": [
        "32.4402002411\n",
        "-0.183999258138 % difference\n"
       ]
      }
     ],
     "prompt_number": 79
    },
    {
     "cell_type": "markdown",
     "metadata": {},
     "source": [
      "**4\\. Generate 25 samples for $X_2$ from a normal distribution with $\\mu=32.5$ and $v=0.05$. Calculate the mean value of $X_2$. How far off is it (percent)?**"
     ]
    },
    {
     "cell_type": "code",
     "collapsed": true,
     "input": [
      "import numpy\n",
      "from numpy import random\n",
      "m = 32.5\n",
      "v = .05\n",
      "sigma = (m*v)\n",
      "x2 = [random.normal(m, sigma) for i in xrange(25) ]\n",
      "mean = numpy.mean(x2)\n",
      "print(mean)\n",
      "print(\"{}{}\".format(((mean - 32.5)/32.5)*100, \" % difference\"))"
     ],
     "language": "python",
     "metadata": {},
     "outputs": [
      {
       "output_type": "stream",
       "stream": "stdout",
       "text": [
        "31.9846903328\n",
        "-1.58556820686 % difference\n"
       ]
      }
     ],
     "prompt_number": 64
    },
    {
     "cell_type": "markdown",
     "metadata": {},
     "source": [
      "**5\\. Generate 25 samples for $X_3$ from a normal distribution with $\\mu=32.5$ and $v=0.10$. Calculate the mean value of $X_3$. How far off is it (percent)?**"
     ]
    },
    {
     "cell_type": "code",
     "collapsed": true,
     "input": [
      "import numpy\n",
      "from numpy import random\n",
      "m = 32.5\n",
      "v = .1\n",
      "sigma = (m*v)\n",
      "x3 = [random.normal(m, sigma) for i in xrange(25) ]\n",
      "mean = numpy.mean(x3)\n",
      "print(mean)\n",
      "print(\"{}{}\".format(((mean - 32.5)/32.5)*100, \" % difference\"))"
     ],
     "language": "python",
     "metadata": {},
     "outputs": [
      {
       "output_type": "stream",
       "stream": "stdout",
       "text": [
        "31.7465747819\n",
        "-2.31823144019 % difference\n"
       ]
      }
     ],
     "prompt_number": 78
    },
    {
     "cell_type": "markdown",
     "metadata": {},
     "source": [
      "**6\\. From a Systems Thinking perspective, how might we interpret the different variabilities of the variables $X_1$, $X_2$, and $X_3$? Could our estimates of $\\bar{x}$ (the technical symbol for the sample mean), improve if we got more samples? Do we need more samples for all the $X$'s?**"
     ]
    },
    {
     "cell_type": "markdown",
     "metadata": {},
     "source": [
      "In the context of probability, the differences in variabilities means there is a tighter (or looser) correlation between certain outcomes and a particular event. Adding more samples would not improve the estimate. The variation is essentially fixed. Adding more samples would certainly give an answer that is less ambiguous or closer to the variation value. We would only need more samples for X2 and X3, namely the variables that have higher variability coeffients."
     ]
    },
    {
     "cell_type": "markdown",
     "metadata": {},
     "source": [
      "**7\\. We now want to sample a system that has two characteristics (variables) that are related. One is boolean ($X_1$)and the other is a normally distributed, numeric variable ($X_2$). The probability of $X_1$ being \"true\" (or 1) is $\\theta=0.25$.**\n",
      "\n",
      "If $X_1 = 0$, then $X_2$ is normally distributed with $\\mu=32.5$ and $v=0.05$.\n",
      "If $X_1 = 1$, then $X_2$ is normally distributed with $\\mu=39.1$ and $v=0.10$.\n",
      "\n",
      "Generate 100 samples and calculate the mean value of $X_1$ and $X_2$."
     ]
    },
    {
     "cell_type": "code",
     "collapsed": true,
     "input": [
      "import numpy\n",
      "from numpy import random\n",
      "from random import random\n",
      "p = 0.25\n",
      "X1 = []\n",
      "X2 = []\n",
      "for i in xrange(100):\n",
      "    rand = random()\n",
      "    if rand >= p:\n",
      "        X1.append(0)\n",
      "        m = 32.5\n",
      "        v = .05\n",
      "        sigma = (m*v)\n",
      "        X2.append(numpy.random.normal(m,sigma))\n",
      "    elif rand < p:\n",
      "        X1.append(1)\n",
      "        m = 39.1\n",
      "        v = .1\n",
      "        sigma = (m*v)\n",
      "        X2.append(numpy.random.normal(m,sigma))\n",
      "\n",
      "meanX1 = numpy.mean(X1)\n",
      "meanX2 = numpy.mean(X2)\n",
      "print(meanX1)\n",
      "print(meanX2)     "
     ],
     "language": "python",
     "metadata": {},
     "outputs": [
      {
       "output_type": "stream",
       "stream": "stdout",
       "text": [
        "0.28\n",
        "34.4071439017\n"
       ]
      }
     ],
     "prompt_number": 87
    }
   ],
   "metadata": {}
  }
 ]
}